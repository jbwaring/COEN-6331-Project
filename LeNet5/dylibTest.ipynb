{
 "cells": [
  {
   "cell_type": "code",
   "execution_count": 1,
   "metadata": {},
   "outputs": [
    {
     "name": "stdout",
     "output_type": "stream",
     "text": [
      "Shape of output from NN: torch.Size([1, 400])\n"
     ]
    },
    {
     "name": "stderr",
     "output_type": "stream",
     "text": [
      "/var/folders/yc/l4r8vtpd737bn2v731bzmjsm0000gn/T/ipykernel_46407/1794204627.py:44: UserWarning: Matplotlib is currently using module://matplotlib_inline.backend_inline, which is a non-GUI backend, so cannot show the figure.\n",
      "  fig.show()\n"
     ]
    },
    {
     "data": {
      "image/png": "[encoded data removed]",
      "text/plain": [
       "<Figure size 640x480 with 2 Axes>"
      ]
     },
     "metadata": {},
     "output_type": "display_data"
    }
   ],
   "source": [
    "import ctypes\n",
    "from dataset import getMNIST\n",
    "import numpy as np\n",
    "from matplotlib import pyplot as plt\n",
    "from mpl_toolkits.axes_grid1 import ImageGrid\n",
    "from lenet5.nn import ConvNeuralNet\n",
    "from utils import getTorchDevice\n",
    "import torch\n",
    "import random\n",
    "import math\n",
    "# Plot Font Config \n",
    "\n",
    "import matplotlib.font_manager\n",
    "\n",
    "font_dirs = ['./IBM_Plex_Sans/']\n",
    "font_files = matplotlib.font_manager.findSystemFonts(fontpaths=font_dirs)\n",
    "\n",
    "for font_file in font_files:\n",
    "    matplotlib.font_manager.fontManager.addfont(font_file)\n",
    "plt.rcParams['font.family'] = 'Times New Roman'\n",
    "\n",
    "train_dataset, test_dataset, train_loader, test_loader = getMNIST(batch_size=64)\n",
    "hdcLib = ctypes.CDLL(\"../HDC/hdcLib.dylib\")\n",
    "device = torch.device(\"cpu\")\n",
    "model = ConvNeuralNet(num_classes=10).to(device)\n",
    "model.load(\"lenet5.pth\")\n",
    "index = random.randint(0, len(train_dataset))\n",
    "sample_image = train_dataset[index][0].float().to(device)\n",
    "sample_image = sample_image.unsqueeze(0) \n",
    "out = model.forwardWithoutLastLayer(x=sample_image)\n",
    "print(f\"Shape of output from NN: {out.shape}\")\n",
    "# plt.imshow(out.detach().cpu().numpy().reshape(20, 20))\n",
    "\n",
    "fig = plt.figure()\n",
    "\n",
    "ax1 = fig.add_subplot(1, 2, 1)\n",
    "ax1.imshow(sample_image.detach().cpu().numpy().reshape(32, 32), cmap=\"bwr\")\n",
    "ax1.set_title(\"Input Image\")\n",
    "\n",
    "ax2 = fig.add_subplot(1, 2, 2)\n",
    "ax2.imshow(out.detach().cpu().numpy().reshape(20,20), cmap=\"bwr\")\n",
    "ax2.set_title(\"Output of CNN Encoder\")\n",
    "\n",
    "fig.show()\n",
    "def getMidOutputOfNN(model, image):\n",
    "    with torch.no_grad():\n",
    "        image = image.float().to(device)\n",
    "        image = image.unsqueeze(0) \n",
    "        image = image.unsqueeze(0) \n",
    "        return model.forwardWithoutLastLayer(x=image)\n",
    "y = model.forwardWithoutLastLayer(x=sample_image).detach().numpy()\n",
    "y = y.astype(np.uint32)\n",
    "\n",
    "hdcLib.createHV.argtypes = [ctypes.c_void_p, ctypes.c_int]\n",
    "hdcLib.createHV.restype = ctypes.c_void_p\n",
    "\n",
    "hdcLib.xorHV.argtypes = [ctypes.c_void_p, ctypes.c_void_p,  ctypes.c_int]\n",
    "hdcLib.printHV.argtypes = [ctypes.c_void_p, ctypes.c_int]\n",
    "hdcLib.printHV.restype = ctypes.c_void_p\n",
    "\n",
    "\n",
    "hdcLib.createProfileVector.argtypes = [ctypes.c_void_p, ctypes.c_int, ctypes.c_int]\n",
    "hdcLib.createProfileVector.restype = ctypes.c_void_p\n",
    "\n",
    "\n",
    "hdcLib.infer.argtypes = [ctypes.c_void_p, ctypes.c_void_p, ctypes.c_int]\n",
    "hdcLib.infer.restype = ctypes.c_int\n",
    "\n",
    "hdcLib.printProfileVectors.argtypes = [ctypes.c_void_p, ctypes.c_int]\n",
    "hdcLib.printProfileVectors.restype = ctypes.c_void_p\n",
    "\n",
    "\n",
    "\n",
    "fig.tight_layout()\n",
    "fig.savefig(\"sample-cnn-inout.pdf\")"
   ]
  },
  {
   "cell_type": "code",
   "execution_count": 2,
   "metadata": {},
   "outputs": [
    {
     "name": "stdout",
     "output_type": "stream",
     "text": [
      "00000000000000000000000000001111(0xf) 00000000000000000000000000000000(0x0) 00000000000000000000000000000000(0x0) 00000000000000000000000000000000(0x0) \n",
      "Create a profile vector with 3 vectors, each with size 1.\n",
      "Number of cells: 1\n",
      "00000000000000000000000000001011(0xb) 00000000000000000000000000000000(0x0) 00000000000000000000000000000000(0x0) 00000000000000000000000000000000(0x0) \n"
     ]
    },
    {
     "data": {
      "text/plain": [
       "8454332744"
      ]
     },
     "execution_count": 2,
     "metadata": {},
     "output_type": "execute_result"
    }
   ],
   "source": [
    "a = np.array([15], dtype=np.uint32)\n",
    "b = np.array([11], dtype=np.uint32)\n",
    "c = np.array([0], dtype=np.uint32)\n",
    "a = hdcLib.createHV(a.ctypes.data, a.shape[0])\n",
    "hdcLib.printHV(a, 1)\n",
    "b = hdcLib.createHV(b.ctypes.data, b.shape[0])\n",
    "c = hdcLib.createHV(c.ctypes.data, c.shape[0])\n",
    "p = hdcLib.createProfileVector(np.array([a, b, c]).ctypes.data, 3, 1)\n",
    "hdcLib.printHV(p, 1)"
   ]
  },
  {
   "cell_type": "code",
   "execution_count": 3,
   "metadata": {},
   "outputs": [],
   "source": [
    "# a = np.array([8, 9, 10, 11, 12, 13, 14, 15], dtype=np.uint32)\n",
    "# b = np.array([0, 1, 2, 3, 4, 5, 6, 7], dtype=np.uint32)\n",
    "# c = np.array([0, 1, 8, 3, 4, 5, 6, 7], dtype=np.uint32)\n",
    "\n",
    "# a = hdcLib.createHV(a.ctypes.data, a.shape[0])\n",
    "# b = hdcLib.createHV(b.ctypes.data, b.shape[0])\n",
    "# c = hdcLib.createHV(c.ctypes.data, c.shape[0])\n",
    "# # # # # b = hdcLib.createHV(y.ctypes.data, y.shape[1])\n",
    "# # # # # c = hdcLib.xorHV(a, b, y.shape[1])\n",
    "\n",
    "# # # # hdcLib.sumWord.argtypes = [ctypes.c_void_p, ctypes.c_int]\n",
    "# # # hdcLib.sumWord.restype = ctypes.c_uint64\n",
    "# # # # hdcLib.printHV(a, y.shape[1])\n",
    "# # # # hdcLib.sumWord(a, y.shape[1])\n",
    "# hdcLib.printHV(a, 2)\n",
    "# hdcLib.printHV(b, 2)\n",
    "# hdcLib.printHV(c, 2)\n",
    "\n",
    "# p = hdcLib.createProfileVector(np.array([a, b, c]).ctypes.data, 3, 8)\n",
    "# hdcLib.printHV(p, 2)"
   ]
  },
  {
   "cell_type": "code",
   "execution_count": 4,
   "metadata": {},
   "outputs": [
    {
     "name": "stdout",
     "output_type": "stream",
     "text": [
      "Creating Profile Vector for Class 0 from 5923 HVs\n",
      "Creating Profile Vector for Class 1 from 6742 HVs\n",
      "Creating Profile Vector for Class 2 from 5958 HVs\n",
      "Creating Profile Vector for Class 3 from 6131 HVs\n",
      "Creating Profile Vector for Class 4 from 5842 HVs\n",
      "Creating Profile Vector for Class 5 from 5421 HVs\n",
      "Creating Profile Vector for Class 6 from 5918 HVs\n",
      "Creating Profile Vector for Class 7 from 6265 HVs\n",
      "Creating Profile Vector for Class 8 from 5851 HVs\n",
      "Creating Profile Vector for Class 9 from 5949 HVs\n"
     ]
    }
   ],
   "source": [
    "def createHVs(model, train_loader):\n",
    "    model.enableHDC()\n",
    "    with torch.no_grad():\n",
    "        hvs = []\n",
    "        _labels = []\n",
    "        for i, (images, labels) in enumerate(train_loader):\n",
    "            images = images.to(device)\n",
    "            labels = labels.to(device)\n",
    "            outputs = model(images)\n",
    "            for j in range(len(labels)):\n",
    "                hv = hdcLib.createHV(outputs[j].detach().numpy().astype(np.uint32).ctypes.data, 400)\n",
    "                hvs.append(hv)\n",
    "                _labels.append(labels[j])\n",
    "            _, predicted = torch.max(outputs.data, 1)\n",
    "            \n",
    "        return hvs, _labels\n",
    "    \n",
    "hvs, labels = createHVs(model, train_loader)\n",
    "hvsDict = {\n",
    "    \"0\": np.array([]),\n",
    "    \"1\": np.array([]),\n",
    "    \"2\": np.array([]),\n",
    "    \"3\": np.array([]),\n",
    "    \"4\": np.array([]),\n",
    "    \"5\": np.array([]),\n",
    "    \"6\": np.array([]),\n",
    "    \"7\": np.array([]),\n",
    "    \"8\": np.array([]),\n",
    "    \"9\": np.array([]),\n",
    "\n",
    "}\n",
    "\n",
    "for i in range(len(labels)):\n",
    "    hvsDict[str(labels[i].item())] = np.append(hvsDict[str(labels[i].item())], hvs[i])\n",
    "\n",
    "profile_vectors = np.array([], dtype=np.uint64)\n",
    "\n",
    "for i in range(10):\n",
    "    print(f\"Creating Profile Vector for Class {i} from\", len(hvsDict[str(i)]), \"HVs\")\n",
    "    _vectors_pointer = hvsDict[str(i)].ctypes.data\n",
    "    _vectors_length = len(hvsDict[str(i)])\n",
    "    _vector_length = 400"
   ]
  },
  {
   "cell_type": "code",
   "execution_count": 5,
   "metadata": {},
   "outputs": [
    {
     "name": "stdout",
     "output_type": "stream",
     "text": [
      "Creating Profile Vector for Class 0 from 5923 HVs\n",
      "Create a profile vector with 1723 vectors, each with size 190.\n",
      "Number of cells: 64\n",
      "Creating Profile Vector for Class 1 from 6742 HVs\n",
      "Create a profile vector with 1a56 vectors, each with size 190.\n",
      "Number of cells: 64\n",
      "Creating Profile Vector for Class 2 from 5958 HVs\n",
      "Create a profile vector with 1746 vectors, each with size 190.\n",
      "Number of cells: 64\n",
      "Creating Profile Vector for Class 3 from 6131 HVs\n",
      "Create a profile vector with 17f3 vectors, each with size 190.\n",
      "Number of cells: 64\n",
      "Creating Profile Vector for Class 4 from 5842 HVs\n",
      "Create a profile vector with 16d2 vectors, each with size 190.\n",
      "Number of cells: 64\n",
      "Creating Profile Vector for Class 5 from 5421 HVs\n",
      "Create a profile vector with 152d vectors, each with size 190.\n",
      "Number of cells: 64\n",
      "Creating Profile Vector for Class 6 from 5918 HVs\n",
      "Create a profile vector with 171e vectors, each with size 190.\n",
      "Number of cells: 64\n",
      "Creating Profile Vector for Class 7 from 6265 HVs\n",
      "Create a profile vector with 1879 vectors, each with size 190.\n",
      "Number of cells: 64\n",
      "Creating Profile Vector for Class 8 from 5851 HVs\n",
      "Create a profile vector with 16db vectors, each with size 190.\n",
      "Number of cells: 64\n",
      "Creating Profile Vector for Class 9 from 5949 HVs\n",
      "Create a profile vector with 173d vectors, each with size 190.\n",
      "Number of cells: 64\n"
     ]
    }
   ],
   "source": [
    "hvsDict = {\n",
    "    \"0\": np.array([]),\n",
    "    \"1\": np.array([]),\n",
    "    \"2\": np.array([]),\n",
    "    \"3\": np.array([]),\n",
    "    \"4\": np.array([]),\n",
    "    \"5\": np.array([]),\n",
    "    \"6\": np.array([]),\n",
    "    \"7\": np.array([]),\n",
    "    \"8\": np.array([]),\n",
    "    \"9\": np.array([]),\n",
    "\n",
    "}\n",
    "\n",
    "for i in range(len(labels)):\n",
    "    hvsDict[str(labels[i].item())] = np.append(hvsDict[str(labels[i].item())], hvs[i])\n",
    "\n",
    "profile_vectors = np.array([], dtype=np.uint64)\n",
    "\n",
    "for i in range(10):\n",
    "    print(f\"Creating Profile Vector for Class {i} from\", len(hvsDict[str(i)]), \"HVs\")\n",
    "    _vectors_pointer = hvsDict[str(i)].astype(np.uint64).ctypes.data\n",
    "    _vectors_length = len(hvsDict[str(i)])\n",
    "    _vector_length = 400\n",
    "\n",
    "    try:\n",
    "        profile_vectors = np.append(profile_vectors, hdcLib.createProfileVector(_vectors_pointer, _vectors_length, _vector_length))\n",
    "    except e:\n",
    "        print(e)"
   ]
  },
  {
   "cell_type": "code",
   "execution_count": null,
   "metadata": {},
   "outputs": [
    {
     "ename": "",
     "evalue": "",
     "output_type": "error",
     "traceback": [
      "\u001b[1;31mCanceled future for execute_request message before replies were done"
     ]
    },
    {
     "ename": "",
     "evalue": "",
     "output_type": "error",
     "traceback": [
      "\u001b[1;31mThe Kernel crashed while executing code in the the current cell or a previous cell. Please review the code in the cell(s) to identify a possible cause of the failure. Click <a href='https://aka.ms/vscodeJupyterKernelCrash'>here</a> for more info. View Jupyter <a href='command:jupyter.viewOutput'>log</a> for further details."
     ]
    }
   ],
   "source": [
    "# try:\n",
    "#     hdcLib.printProfileVectors(profile_vectors.ctypes.data, 100)\n",
    "# except e:\n",
    "#     print(e)\n",
    "\n",
    "#  Check Similarity between all profile vectors:\n",
    "hdcLib.similarity.argtypes = [ctypes.c_void_p, ctypes.c_void_p, ctypes.c_int]\n",
    "hdcLib.similarity.restype = ctypes.c_int\n",
    "profile_vectors_ptr = profile_vectors.astype(np.int64).ctypes.data\n",
    "try:\n",
    "    for i in range(10):\n",
    "        query_ptr = int(profile_vectors[i])\n",
    "        query_cpy_ptr = hdcLib.copy_query(ctypes.c_void_p(query_ptr), 400)\n",
    "        profile_vector_ptr = int(profile_vectors[0])\n",
    "        print(f\"Vector {i} is of class:\", hdcLib.similarity(profile_vector_ptr, profile_vector_ptr, 400))\n",
    "except e:\n",
    "    print(e)"
   ]
  },
  {
   "cell_type": "code",
   "execution_count": null,
   "metadata": {},
   "outputs": [
    {
     "data": {
      "text/plain": [
       "(4373331968, c_void_p(4373331968))"
      ]
     },
     "execution_count": 6,
     "metadata": {},
     "output_type": "execute_result"
    }
   ],
   "source": [
    "test = int(profile_vectors[i])\n",
    "\n",
    "# ctypes.c_void_p(profile_vectors[i])\n",
    "test, ctypes.c_void_p(test)"
   ]
  },
  {
   "cell_type": "code",
   "execution_count": null,
   "metadata": {},
   "outputs": [
    {
     "data": {
      "text/plain": [
       "(array([4.37320499e+09, 4.66616525e+09, 4.66597376e+09, 4.66587955e+09,\n",
       "        4.66596198e+09, 4.66596403e+09, 4.37078989e+09, 4.37336013e+09,\n",
       "        4.37336986e+09, 4.37333197e+09]),\n",
       " array([4.66616525e+09]))"
      ]
     },
     "execution_count": 7,
     "metadata": {},
     "output_type": "execute_result"
    }
   ],
   "source": [
    "profile_vectors, profile_vectors[1:2]"
   ]
  },
  {
   "cell_type": "code",
   "execution_count": null,
   "metadata": {},
   "outputs": [],
   "source": [
    "import time\n",
    "def testFullLENET5(model, test_loader):\n",
    "    model.disableHDC()\n",
    "    with torch.no_grad():\n",
    "        correct = 0\n",
    "        total = 0\n",
    "        for images, labels in test_loader:\n",
    "            images = images.to(device)\n",
    "            labels = labels.to(device)\n",
    "            st = time.time()\n",
    "            \n",
    "            outputs = model(images)\n",
    "            et = time.time()\n",
    "            _, predicted = torch.max(outputs.data, 1)\n",
    "            total += labels.size(0)\n",
    "            correct += (predicted == labels).sum().item()\n",
    "\n",
    "        print('Accuracy of the network on the 10000 test images: {} %'.format(\n",
    "            100 * correct / total))\n",
    "    return et - st"
   ]
  },
  {
   "cell_type": "code",
   "execution_count": null,
   "metadata": {},
   "outputs": [
    {
     "name": "stdout",
     "output_type": "stream",
     "text": [
      "Accuracy of the network on the 10000 test images: 98.81 %\n",
      "Execution time (Full LENET5): 0.0013859272003173828 seconds, for device: cpu\n"
     ]
    }
   ],
   "source": [
    "print('Execution time (Full LENET5):', testFullLENET5(model, test_loader), 'seconds, for device:', device)"
   ]
  },
  {
   "cell_type": "code",
   "execution_count": null,
   "metadata": {},
   "outputs": [],
   "source": [
    "def testHDC(model, test_loader):\n",
    "    model.enableHDC()\n",
    "    with torch.no_grad():\n",
    "        correct = 0\n",
    "        total = 0\n",
    "        for images, labels in test_loader:\n",
    "            images = images.to(device)\n",
    "            labels = labels.to(device)\n",
    "            st = time.time()\n",
    "            \n",
    "            outputs = model(images)\n",
    "            for i in range(len(labels)):\n",
    "                \n",
    "                hv = hdcLib.createHV(outputs[i].detach().numpy().astype(np.uint32).ctypes.data, 400)\n",
    "                try:\n",
    "                    label = hdcLib.infer(ctypes.c_void_p(hv), profile_vectors_ptr, 400)\n",
    "                except e:\n",
    "                    print(e)\n",
    "                print(label)\n",
    "                if label == labels[i]:\n",
    "                    correct += 1\n",
    "                total += 1\n",
    "            et = time.time()\n",
    "            _, predicted = torch.max(outputs.data, 1)\n",
    "            total += labels.size(0)\n",
    "            correct += (predicted == labels).sum().item()\n",
    "            break\n",
    "\n",
    "        print('Accuracy of the network on the 10000 test images: {} %'.format(\n",
    "            100 * correct / total))\n",
    "    return et - st"
   ]
  },
  {
   "cell_type": "code",
   "execution_count": null,
   "metadata": {},
   "outputs": [
    {
     "name": "stdout",
     "output_type": "stream",
     "text": [
      "0\n",
      "0\n",
      "0\n",
      "0\n",
      "0\n",
      "0\n",
      "0\n",
      "0\n",
      "0\n",
      "0\n",
      "0\n",
      "0\n",
      "0\n",
      "0\n",
      "0\n",
      "0\n",
      "0\n",
      "0\n",
      "0\n",
      "0\n",
      "0\n",
      "0\n",
      "0\n",
      "0\n",
      "0\n",
      "0\n",
      "0\n",
      "0\n",
      "0\n",
      "0\n",
      "0\n",
      "0\n",
      "0\n",
      "0\n",
      "0\n",
      "0\n",
      "0\n",
      "0\n",
      "0\n",
      "0\n",
      "0\n",
      "0\n",
      "0\n",
      "0\n",
      "0\n",
      "0\n",
      "0\n",
      "0\n",
      "0\n",
      "0\n",
      "0\n",
      "0\n",
      "0\n",
      "0\n",
      "0\n",
      "0\n",
      "0\n",
      "0\n",
      "0\n",
      "0\n",
      "0\n",
      "0\n",
      "0\n",
      "0\n",
      "Accuracy of the network on the 10000 test images: 7.03125 %\n",
      "Execution time (HDC): 0.004755973815917969 seconds, for device: cpu\n"
     ]
    }
   ],
   "source": [
    "print('Execution time (HDC):', testHDC(model, test_loader), 'seconds, for device:', device)"
   ]
  },
  {
   "cell_type": "code",
   "execution_count": null,
   "metadata": {},
   "outputs": [],
   "source": []
  },
  {
   "cell_type": "code",
   "execution_count": null,
   "metadata": {},
   "outputs": [],
   "source": []
  }
 ],
 "metadata": {
  "kernelspec": {
   "display_name": ".venv",
   "language": "python",
   "name": "python3"
  },
  "language_info": {
   "codemirror_mode": {
    "name": "ipython",
    "version": 3
   },
   "file_extension": ".py",
   "mimetype": "text/x-python",
   "name": "python",
   "nbconvert_exporter": "python",
   "pygments_lexer": "ipython3",
   "version": "3.11.2"
  },
  "orig_nbformat": 4
 },
 "nbformat": 4,
 "nbformat_minor": 2
}
