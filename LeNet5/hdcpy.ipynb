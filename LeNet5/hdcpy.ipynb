{
 "cells": [
  {
   "cell_type": "code",
   "execution_count": 1,
   "metadata": {},
   "outputs": [],
   "source": [
    "from dataset import getMNIST\n",
    "import numpy as np\n",
    "from matplotlib import pyplot as plt\n",
    "from mpl_toolkits.axes_grid1 import ImageGrid\n",
    "from lenet5.nn import ConvNeuralNet\n",
    "from utils import getTorchDevice\n",
    "import torch\n",
    "\n",
    "plt.rcParams['font.family'] = 'Times New Roman'"
   ]
  },
  {
   "cell_type": "code",
   "execution_count": 2,
   "metadata": {},
   "outputs": [],
   "source": [
    "train_dataset, test_dataset, train_loader, test_loader = getMNIST(batch_size=64)"
   ]
  },
  {
   "cell_type": "code",
   "execution_count": 3,
   "metadata": {},
   "outputs": [
    {
     "data": {
      "text/plain": [
       "(device(type='cpu'),\n",
       " ConvNeuralNet(\n",
       "   (layer1): Sequential(\n",
       "     (0): Conv2d(1, 6, kernel_size=(5, 5), stride=(1, 1))\n",
       "     (1): BatchNorm2d(6, eps=1e-05, momentum=0.1, affine=True, track_running_stats=True)\n",
       "     (2): ReLU()\n",
       "     (3): MaxPool2d(kernel_size=2, stride=2, padding=0, dilation=1, ceil_mode=False)\n",
       "   )\n",
       "   (layer2): Sequential(\n",
       "     (0): Conv2d(6, 16, kernel_size=(5, 5), stride=(1, 1))\n",
       "     (1): BatchNorm2d(16, eps=1e-05, momentum=0.1, affine=True, track_running_stats=True)\n",
       "     (2): ReLU()\n",
       "     (3): MaxPool2d(kernel_size=2, stride=2, padding=0, dilation=1, ceil_mode=False)\n",
       "   )\n",
       "   (fc): Linear(in_features=400, out_features=120, bias=True)\n",
       "   (relu): ReLU()\n",
       "   (fc1): Linear(in_features=120, out_features=84, bias=True)\n",
       "   (relu1): ReLU()\n",
       "   (fc2): Linear(in_features=84, out_features=10, bias=True)\n",
       " ))"
      ]
     },
     "execution_count": 3,
     "metadata": {},
     "output_type": "execute_result"
    }
   ],
   "source": [
    "# device = getTorchDevice()\n",
    "device = torch.device(\"cpu\")\n",
    "model = ConvNeuralNet(num_classes=10).to(device)\n",
    "model.load(\"lenet5.pth\")\n",
    "device, model"
   ]
  },
  {
   "cell_type": "code",
   "execution_count": 4,
   "metadata": {},
   "outputs": [
    {
     "data": {
      "image/png": "[encoded data removed]",
      "text/plain": [
       "<Figure size 1000x500 with 2 Axes>"
      ]
     },
     "metadata": {},
     "output_type": "display_data"
    }
   ],
   "source": [
    "fig, (ax1, ax2) = plt.subplots(1, 2, figsize=(10, 5))"
   ]
  },
  {
   "cell_type": "code",
   "execution_count": 5,
   "metadata": {},
   "outputs": [
    {
     "name": "stdout",
     "output_type": "stream",
     "text": [
      "Accuracy of the network on the 10000 test images: 98.76 %\n",
      "F1 tensor(0.9876)\n",
      "Recall tensor(0.9875)\n",
      "Precision tensor(0.9877)\n",
      "Accuracy tensor([0.9888, 0.9938, 0.9981, 0.9911, 0.9654, 0.9910, 0.9812, 0.9786, 0.9918,\n",
      "        0.9950])\n",
      "Accuracy tensor(0.9875)\n",
      "Number of shots: 10000\n",
      "Execution time (Full LENET5): [0.003570079803466797, 0.0030891895294189453, 0.0029408931732177734, 0.0028619766235351562, 0.002753019332885742, 0.0028600692749023438, 0.00284576416015625, 0.0030548572540283203, 0.0029501914978027344, 0.002830028533935547, 0.0029921531677246094, 0.002808094024658203, 0.0029850006103515625, 0.003002166748046875, 0.0028839111328125, 0.0027740001678466797, 0.0031707286834716797, 0.002900838851928711, 0.0029418468475341797, 0.002847909927368164, 0.0027599334716796875, 0.0029790401458740234, 0.003111124038696289, 0.0030918121337890625, 0.002973794937133789, 0.002675771713256836, 0.0030450820922851562, 0.0029211044311523438, 0.003052234649658203, 0.002952098846435547, 0.0028450489044189453, 0.0028839111328125, 0.0028798580169677734, 0.0029010772705078125, 0.0027670860290527344, 0.0029811859130859375, 0.002836942672729492, 0.0027179718017578125, 0.003058910369873047, 0.0028128623962402344, 0.002685070037841797, 0.0028820037841796875, 0.0028090476989746094, 0.002733945846557617, 0.002872943878173828, 0.0027201175689697266, 0.0028748512268066406, 0.002763032913208008, 0.0027408599853515625, 0.0028481483459472656, 0.0030379295349121094, 0.0028569698333740234, 0.002871990203857422, 0.002763032913208008, 0.002942323684692383, 0.0029921531677246094, 0.0028238296508789062, 0.0027799606323242188, 0.0028510093688964844, 0.002919912338256836, 0.002927064895629883, 0.0027446746826171875, 0.0030939579010009766, 0.0028510093688964844, 0.002920866012573242, 0.002949237823486328, 0.0029020309448242188, 0.0029201507568359375, 0.0027577877044677734, 0.0028231143951416016, 0.002797842025756836, 0.002779245376586914, 0.002717256546020508, 0.0027909278869628906, 0.0027840137481689453, 0.0028400421142578125, 0.0028409957885742188, 0.0028629302978515625, 0.002839803695678711, 0.002704143524169922, 0.002897977828979492, 0.0030846595764160156, 0.0029981136322021484, 0.002851247787475586, 0.003015279769897461, 0.0027990341186523438, 0.0028629302978515625, 0.003114938735961914, 0.002680063247680664, 0.0029990673065185547, 0.002869129180908203, 0.002851247787475586, 0.0029077529907226562, 0.002777099609375, 0.0032341480255126953, 0.0030601024627685547, 0.002954244613647461, 0.0030090808868408203, 0.0028989315032958984, 0.0030040740966796875, 0.0031790733337402344, 0.003147125244140625, 0.0028040409088134766, 0.0031690597534179688, 0.0029592514038085938, 0.003136873245239258, 0.0028700828552246094, 0.003026247024536133, 0.0028688907623291016, 0.0029649734497070312, 0.003075838088989258, 0.0029840469360351562, 0.0028908252716064453, 0.0028400421142578125, 0.0029692649841308594, 0.0029408931732177734, 0.003196239471435547, 0.003137826919555664, 0.0031790733337402344, 0.0029001235961914062, 0.0029828548431396484, 0.0029108524322509766, 0.002981901168823242, 0.002501249313354492, 0.0029549598693847656, 0.002902984619140625, 0.0028967857360839844, 0.0029952526092529297, 0.002862691879272461, 0.002771139144897461, 0.0030090808868408203, 0.002749919891357422, 0.0029261112213134766, 0.0028569698333740234, 0.0027818679809570312, 0.0028228759765625, 0.0030128955841064453, 0.002939939498901367, 0.0027320384979248047, 0.0028390884399414062, 0.0029370784759521484, 0.002962350845336914, 0.002900838851928711, 0.0028350353240966797, 0.0030210018157958984, 0.002972126007080078, 0.0028679370880126953, 0.002696990966796875, 0.0029952526092529297, 0.0029480457305908203, 0.002814054489135742, 0.0029370784759521484, 0.002694368362426758, 0.0028448104858398438, 0.002813100814819336, 0.0028569698333740234, 0.0015292167663574219] seconds, for device: cpu\n"
     ]
    }
   ],
   "source": [
    "import time\n",
    "from sklearn.metrics import precision_recall_fscore_support\n",
    "from torchmetrics import F1Score, Recall, Precision, ConfusionMatrix\n",
    "from torchmetrics.classification import MultilabelAccuracy, Accuracy\n",
    "def testFullLENET5(model, test_loader):\n",
    "    model.disableHDC()\n",
    "    y_true = []\n",
    "    y_pred = []\n",
    "    times = []\n",
    "    with torch.no_grad():\n",
    "        correct = 0\n",
    "        total = 0\n",
    "        for images, labels in test_loader:\n",
    "            images = images.to(device)\n",
    "            labels = labels.to(device)\n",
    "            st = time.time()\n",
    "            \n",
    "            outputs = model(images)\n",
    "            et = time.time()\n",
    "            times.append(et - st)\n",
    "            _, predicted = torch.max(outputs.data, 1)\n",
    "            total += labels.size(0)\n",
    "            correct += (predicted == labels).sum().item()\n",
    "\n",
    "            y_true.extend(labels.cpu().numpy())\n",
    "            y_pred.extend(predicted.cpu().numpy())\n",
    "\n",
    "        print('Accuracy of the network on the 10000 test images: {} %'.format(\n",
    "            100 * correct / total))\n",
    "    y_true = torch.from_numpy(np.array(y_true))\n",
    "    y_pred = torch.from_numpy(np.array(y_pred))\n",
    "    f1 = F1Score(task=\"multiclass\", num_classes=10)\n",
    "    print(\"F1\",  f1(y_pred, y_true))\n",
    "\n",
    "    recall = Recall(task=\"multiclass\", average='macro', num_classes=10)\n",
    "    print(\"Recall\",  recall(y_pred, y_true))\n",
    "\n",
    "    precision = Precision(task=\"multiclass\", average='macro', num_classes=10)\n",
    "    print(\"Precision\",  precision(y_pred, y_true))\n",
    "\n",
    "    accuracy = Accuracy(num_classes=10, task=\"multiclass\", average='none')\n",
    "    print(\"Accuracy\",  accuracy(y_pred, y_true))\n",
    "    accuracy = Accuracy(num_classes=10, task=\"multiclass\", average='macro')\n",
    "    print(\"Accuracy\",  accuracy(y_pred, y_true))\n",
    "\n",
    "    confusionMatrix = ConfusionMatrix(num_classes=10, task=\"multiclass\")\n",
    "    confusionMatrix = confusionMatrix(y_pred, y_true)\n",
    "    # print(confusionMatrix(y_pred, y_true))\n",
    "    \n",
    "    im = ax1.imshow(confusionMatrix, cmap='bwr')\n",
    "    for (j,i),label in np.ndenumerate(confusionMatrix):\n",
    "        if(label < 500):\n",
    "            ax1.text(i,j,label,ha='center',va='center', color='white')\n",
    "        else:\n",
    "            ax1.text(i,j,label,ha='center',va='center', color='black')\n",
    "    # plt.imshow(confusionMatrix(y_pred, y_true).cpu().numpy(), cmap='bwr')\n",
    "    print(\"Number of shots:\", len(y_true))\n",
    "    ax1.set_title(\"LeNet5 CNN\")\n",
    "\n",
    "    # return et - st + 0.0014649101257324219, \n",
    "    return times\n",
    "lenet_execution_time = testFullLENET5(model, test_loader)\n",
    "print('Execution time (Full LENET5):',lenet_execution_time , 'seconds, for device:', device)"
   ]
  },
  {
   "cell_type": "code",
   "execution_count": 6,
   "metadata": {},
   "outputs": [],
   "source": [
    "hvsDict = {\n",
    "    \"0\": [],\n",
    "    \"1\": [],\n",
    "    \"2\": [],\n",
    "    \"3\": [],\n",
    "    \"4\": [],\n",
    "    \"5\": [],\n",
    "    \"6\": [],\n",
    "    \"7\": [],\n",
    "    \"8\": [],\n",
    "    \"9\": [],\n",
    "\n",
    "}\n",
    "with torch.no_grad():\n",
    "    model.HDCMode = True\n",
    "    for images, labels in train_loader:\n",
    "        images = images.to(device)\n",
    "        labels = labels.to(device)\n",
    "        outputs = model(images)\n",
    "        outputs = outputs > 0.5\n",
    "        for idx, label in enumerate(labels):\n",
    "            hvsDict[str(label.item())].append(np.array(outputs[idx]))"
   ]
  },
  {
   "cell_type": "code",
   "execution_count": 7,
   "metadata": {},
   "outputs": [
    {
     "data": {
      "text/plain": [
       "array([[False,  True,  True, ...,  True,  True,  True],\n",
       "       [False, False, False, ..., False, False, False],\n",
       "       [False, False, False, ...,  True,  True,  True],\n",
       "       ...,\n",
       "       [False, False, False, ..., False, False, False],\n",
       "       [False,  True,  True, ..., False, False, False],\n",
       "       [False,  True,  True, ..., False, False, False]])"
      ]
     },
     "execution_count": 7,
     "metadata": {},
     "output_type": "execute_result"
    }
   ],
   "source": [
    "profile_vectors = []\n",
    "for i in range(10):\n",
    "    hvs = np.swapaxes(np.array(hvsDict[str(i)]), 1,0)\n",
    "    middle = hvs.shape[1] / 2\n",
    "    hvs = np.sum(hvs, axis=1)\n",
    "\n",
    "    profile_vector = hvs >  middle\n",
    "    profile_vectors.append(profile_vector)\n",
    "np.array(profile_vectors)"
   ]
  },
  {
   "cell_type": "code",
   "execution_count": 8,
   "metadata": {},
   "outputs": [
    {
     "name": "stdout",
     "output_type": "stream",
     "text": [
      "F1 tensor(0.9286)\n",
      "Recall tensor(0.9277)\n",
      "Precision tensor(0.9314)\n",
      "Accuracy tensor([0.9806, 0.9947, 0.8847, 0.9337, 0.9196, 0.8991, 0.9572, 0.8911, 0.8809,\n",
      "        0.9356])\n",
      "Accuracy tensor(0.9277)\n",
      "Number of shots: 10000\n",
      "Execution time (HDC): [0.006374359130859375, 0.0060007572174072266, 0.005767822265625, 0.00568699836730957, 0.00570225715637207, 0.005934715270996094, 0.00560307502746582, 0.005773067474365234, 0.005856037139892578, 0.0056819915771484375, 0.0060122013092041016, 0.005712985992431641, 0.005576372146606445, 0.005632162094116211, 0.005841255187988281, 0.005952596664428711, 0.006132841110229492, 0.0063779354095458984, 0.006381034851074219, 0.005977153778076172, 0.006444215774536133, 0.006414175033569336, 0.00599980354309082, 0.006065845489501953, 0.00661015510559082, 0.005941152572631836, 0.006382942199707031, 0.006120920181274414, 0.006249904632568359, 0.006452083587646484, 0.009241819381713867, 0.008681297302246094, 0.010657072067260742, 0.009301900863647461, 0.006217002868652344, 0.007296085357666016, 0.006150960922241211, 0.006059885025024414, 0.0061681270599365234, 0.006085872650146484, 0.0061571598052978516, 0.006347179412841797, 0.0058519840240478516, 0.006410121917724609, 0.00624394416809082, 0.00629878044128418, 0.006090879440307617, 0.005800962448120117, 0.006042957305908203, 0.005763053894042969, 0.00625920295715332, 0.0057830810546875, 0.006105184555053711, 0.006253242492675781, 0.0058078765869140625, 0.005548715591430664, 0.005574703216552734, 0.005769968032836914, 0.0058171749114990234, 0.005700826644897461, 0.005395174026489258, 0.005454063415527344, 0.005626201629638672, 0.005746126174926758, 0.005646228790283203, 0.005709171295166016, 0.005433082580566406, 0.005542278289794922, 0.005692958831787109, 0.005548000335693359, 0.005761861801147461, 0.0056841373443603516, 0.005414009094238281, 0.006021022796630859, 0.005863189697265625, 0.00569605827331543, 0.005620002746582031, 0.0055789947509765625, 0.005646228790283203, 0.005659818649291992, 0.005424022674560547, 0.0055658817291259766, 0.005491971969604492, 0.0054509639739990234, 0.005414009094238281, 0.005502939224243164, 0.005364894866943359, 0.005444049835205078, 0.005372047424316406, 0.005491018295288086, 0.005525112152099609, 0.0058400630950927734, 0.005656003952026367, 0.005641937255859375, 0.005618095397949219, 0.005480051040649414, 0.005438804626464844, 0.00541377067565918, 0.005223989486694336, 0.005429744720458984, 0.0055751800537109375, 0.005551815032958984, 0.005576133728027344, 0.005421876907348633, 0.0057659149169921875, 0.00551915168762207, 0.0057718753814697266, 0.005536079406738281, 0.00533294677734375, 0.00548100471496582, 0.005544185638427734, 0.005924701690673828, 0.005452156066894531, 0.005207061767578125, 0.005604982376098633, 0.005393028259277344, 0.0054819583892822266, 0.005568027496337891, 0.005510091781616211, 0.005529880523681641, 0.0053937435150146484, 0.005295991897583008, 0.005791902542114258, 0.00558161735534668, 0.0055522918701171875, 0.005597114562988281, 0.0052471160888671875, 0.0054700374603271484, 0.005658149719238281, 0.005400180816650391, 0.005717277526855469, 0.005636930465698242, 0.0053517818450927734, 0.0055501461029052734, 0.005257844924926758, 0.005681276321411133, 0.005384206771850586, 0.005520820617675781, 0.005269050598144531, 0.005405902862548828, 0.005229949951171875, 0.005357265472412109, 0.005401134490966797, 0.0053861141204833984, 0.005479097366333008, 0.005649089813232422, 0.0053861141204833984, 0.005521059036254883, 0.005404949188232422, 0.005558013916015625, 0.0053288936614990234, 0.005450010299682617, 0.005518913269042969, 0.005509853363037109, 0.005548954010009766, 0.0055999755859375, 0.0021429061889648438] seconds, for device: cpu\n"
     ]
    }
   ],
   "source": [
    "def hammingDistance(a, b):\n",
    "    return np.count_nonzero(a!=b)\n",
    "def batchedHDC(input):\n",
    "    input = input > 0.5\n",
    "    similarities = []\n",
    "    for i in range(input.shape[0]):\n",
    "        similarities.append(np.array([hammingDistance(np.array(input[i]), np.array(profile_vector)) for profile_vector in profile_vectors]))\n",
    "    similarities = np.array(similarities)\n",
    "    return np.argmin(similarities, axis=1)\n",
    "\n",
    "def testHDC(model, test_loader):\n",
    "    model.enableHDC()\n",
    "    y_true = []\n",
    "    y_pred = []\n",
    "    times = []\n",
    "    with torch.no_grad():\n",
    "        correct = 0\n",
    "        total = 0\n",
    "        for images, labels in test_loader:\n",
    "            images = images.to(device)\n",
    "            labels = labels.to(device)\n",
    "            st = time.time()\n",
    "            outputs = model(images)  ## output of \"middle\" layer\n",
    "            predicted = batchedHDC(outputs)\n",
    "            et = time.time()\n",
    "            times.append(et - st)\n",
    "            total += labels.size(0)\n",
    "            correct += (predicted == np.array(labels)).sum().item()\n",
    "            y_true.extend(labels)\n",
    "            y_pred.extend(predicted)\n",
    "        y_true = torch.from_numpy(np.array(y_true))\n",
    "        y_pred = torch.from_numpy(np.array(y_pred))\n",
    "        f1 = F1Score(task=\"multiclass\", num_classes=10)\n",
    "        print(\"F1\",  f1(y_pred, y_true))\n",
    "\n",
    "        recall = Recall(task=\"multiclass\", average='macro', num_classes=10)\n",
    "        print(\"Recall\",  recall(y_pred, y_true))\n",
    "\n",
    "        precision = Precision(task=\"multiclass\", average='macro', num_classes=10)\n",
    "        print(\"Precision\",  precision(y_pred, y_true))\n",
    "\n",
    "        accuracy = Accuracy(num_classes=10, task=\"multiclass\", average='none')\n",
    "        print(\"Accuracy\",  accuracy(y_pred, y_true))\n",
    "        accuracy = Accuracy(num_classes=10, task=\"multiclass\", average='macro')\n",
    "        print(\"Accuracy\",  accuracy(y_pred, y_true))\n",
    "        confusionMatrix = ConfusionMatrix(num_classes=10, task=\"multiclass\")\n",
    "        confusionMatrix = confusionMatrix(y_pred, y_true)\n",
    "        # # print(confusionMatrix(y_pred, y_true))\n",
    "        \n",
    "        # im = ax2.imshow(confusionMatrix, cmap='bwr')\n",
    "        # for (j,i),label in np.ndenumerate(confusionMatrix):\n",
    "        #     if(label < 500):\n",
    "        #         ax2.text(i,j,label,ha='center',va='center', color='white')\n",
    "        #     else:\n",
    "        #         ax2.text(i,j,label,ha='center',va='center', color='black')\n",
    "        print(\"Number of shots:\", len(y_true))\n",
    "        ax2.set_title(\"CNN-HDC\")\n",
    "    return times\n",
    "\n",
    "hdc_execution_time = testHDC(model, test_loader)\n",
    "print('Execution time (HDC):',hdc_execution_time , 'seconds, for device:', device)"
   ]
  },
  {
   "cell_type": "code",
   "execution_count": 9,
   "metadata": {},
   "outputs": [
    {
     "ename": "TypeError",
     "evalue": "unsupported operand type(s) for /: 'list' and 'list'",
     "output_type": "error",
     "traceback": [
      "\u001b[0;31m---------------------------------------------------------------------------\u001b[0m",
      "\u001b[0;31mTypeError\u001b[0m                                 Traceback (most recent call last)",
      "Cell \u001b[0;32mIn[9], line 1\u001b[0m\n\u001b[0;32m----> 1\u001b[0m \u001b[39mprint\u001b[39m(\u001b[39m'\u001b[39m\u001b[39mSpeedup:\u001b[39m\u001b[39m'\u001b[39m, lenet_execution_time \u001b[39m/\u001b[39;49m hdc_execution_time)\n\u001b[1;32m      4\u001b[0m hdc_execution_time, lenet_execution_time\n",
      "\u001b[0;31mTypeError\u001b[0m: unsupported operand type(s) for /: 'list' and 'list'"
     ]
    }
   ],
   "source": [
    "print('Speedup:', lenet_execution_time / hdc_execution_time)\n",
    "\n",
    "\n",
    "hdc_execution_time, lenet_execution_time"
   ]
  },
  {
   "cell_type": "code",
   "execution_count": null,
   "metadata": {},
   "outputs": [],
   "source": [
    "from torchviz import make_dot"
   ]
  },
  {
   "cell_type": "code",
   "execution_count": 10,
   "metadata": {},
   "outputs": [],
   "source": [
    "\n",
    "# model.disableHDC()\n",
    "# for images, labels in test_loader:\n",
    "#     images = images.to(device)\n",
    "#     labels = labels.to(device)\n",
    "#     outputs = model(images)\n",
    "\n",
    "\n",
    "\n",
    "# make_dot(outputs, params=dict(list(model.named_parameters()))).render(\"full-lenet-diagram\", format=\"pdf\")"
   ]
  },
  {
   "cell_type": "code",
   "execution_count": 11,
   "metadata": {},
   "outputs": [],
   "source": [
    "\n",
    "# model.enableHDC()\n",
    "# for images, labels in test_loader:\n",
    "#     images = images.to(device)\n",
    "#     labels = labels.to(device)\n",
    "#     outputs = model(images)\n",
    "\n",
    "\n",
    "\n",
    "# make_dot(outputs, params=dict(list(model.named_parameters()))).render(\"hdc-lenet-diagram\", format=\"pdf\")"
   ]
  },
  {
   "cell_type": "code",
   "execution_count": 12,
   "metadata": {},
   "outputs": [],
   "source": [
    "# fig.suptitle('Confusion Matrices')\n",
    "# fig.savefig('confusion-matrices.pdf')"
   ]
  },
  {
   "cell_type": "code",
   "execution_count": 14,
   "metadata": {},
   "outputs": [
    {
     "name": "stdout",
     "output_type": "stream",
     "text": [
      "Accuracy of the network on the 10000 test images: 98.5 %\n",
      "F1 tensor(0.9850)\n",
      "Recall tensor(0.9846)\n",
      "Precision tensor(0.9843)\n",
      "Accuracy tensor([0.9703, 1.0000, 0.9902, 1.0000, 0.9468, 0.9898, 0.9811, 0.9912, 1.0000,\n",
      "        0.9770])\n",
      "Accuracy tensor(0.9846)\n",
      "Number of shots: 1000\n",
      "F1 tensor(0.9290)\n",
      "Recall tensor(0.9282)\n",
      "Precision tensor(0.9318)\n",
      "Accuracy tensor([0.9703, 1.0000, 0.8431, 0.9596, 0.9149, 0.8980, 0.9434, 0.9204, 0.8556,\n",
      "        0.9770])\n",
      "Accuracy tensor(0.9282)\n",
      "Number of shots: 1000\n",
      "Accuracy of the network on the 10000 test images: 99.2 %\n",
      "F1 tensor(0.9920)\n",
      "Recall tensor(0.9920)\n",
      "Precision tensor(0.9918)\n",
      "Accuracy tensor([0.9800, 0.9913, 0.9959, 0.9953, 0.9679, 1.0000, 0.9947, 0.9951, 1.0000,\n",
      "        1.0000])\n",
      "Accuracy tensor(0.9920)\n",
      "Number of shots: 2000\n",
      "F1 tensor(0.9365)\n",
      "Recall tensor(0.9361)\n",
      "Precision tensor(0.9375)\n",
      "Accuracy tensor([0.9900, 0.9913, 0.8884, 0.9296, 0.9305, 0.9326, 0.9734, 0.9113, 0.8728,\n",
      "        0.9409])\n",
      "Accuracy tensor(0.9361)\n",
      "Number of shots: 2000\n",
      "Accuracy of the network on the 10000 test images: 98.9 %\n",
      "F1 tensor(0.9890)\n",
      "Recall tensor(0.9890)\n",
      "Precision tensor(0.9891)\n",
      "Accuracy tensor([0.9900, 0.9908, 0.9968, 0.9868, 0.9718, 0.9888, 0.9927, 0.9820, 0.9932,\n",
      "        0.9968])\n",
      "Accuracy tensor(0.9890)\n",
      "Number of shots: 3000\n",
      "F1 tensor(0.9283)\n",
      "Recall tensor(0.9282)\n",
      "Precision tensor(0.9309)\n",
      "Accuracy tensor([0.9833, 0.9908, 0.8511, 0.9340, 0.9225, 0.9033, 0.9599, 0.9069, 0.9078,\n",
      "        0.9221])\n",
      "Accuracy tensor(0.9282)\n",
      "Number of shots: 3000\n",
      "Accuracy of the network on the 10000 test images: 99.1 %\n",
      "F1 tensor(0.9910)\n",
      "Recall tensor(0.9910)\n",
      "Precision tensor(0.9910)\n",
      "Accuracy tensor([1.0000, 0.9933, 1.0000, 0.9903, 0.9651, 0.9892, 0.9918, 0.9909, 0.9894,\n",
      "        1.0000])\n",
      "Accuracy tensor(0.9910)\n",
      "Number of shots: 4000\n",
      "F1 tensor(0.9290)\n",
      "Recall tensor(0.9286)\n",
      "Precision tensor(0.9320)\n",
      "Accuracy tensor([0.9864, 0.9955, 0.8926, 0.9319, 0.9327, 0.8784, 0.9672, 0.9116, 0.8594,\n",
      "        0.9300])\n",
      "Accuracy tensor(0.9286)\n",
      "Number of shots: 4000\n",
      "Accuracy of the network on the 10000 test images: 98.84 %\n",
      "F1 tensor(0.9884)\n",
      "Recall tensor(0.9883)\n",
      "Precision tensor(0.9885)\n",
      "Accuracy tensor([0.9823, 0.9946, 0.9980, 0.9917, 0.9691, 0.9935, 0.9896, 0.9744, 0.9940,\n",
      "        0.9960])\n",
      "Accuracy tensor(0.9883)\n",
      "Number of shots: 5000\n",
      "F1 tensor(0.9258)\n",
      "Recall tensor(0.9251)\n",
      "Precision tensor(0.9291)\n",
      "Accuracy tensor([0.9784, 0.9928, 0.8652, 0.9339, 0.9072, 0.9043, 0.9502, 0.8937, 0.8845,\n",
      "        0.9405])\n",
      "Accuracy tensor(0.9251)\n",
      "Number of shots: 5000\n",
      "Accuracy of the network on the 10000 test images: 98.78333333333333 %\n",
      "F1 tensor(0.9878)\n",
      "Recall tensor(0.9877)\n",
      "Precision tensor(0.9881)\n",
      "Accuracy tensor([0.9857, 0.9942, 0.9935, 0.9920, 0.9680, 0.9907, 0.9842, 0.9815, 0.9931,\n",
      "        0.9936])\n",
      "Accuracy tensor(0.9877)\n",
      "Number of shots: 6000\n",
      "F1 tensor(0.9318)\n",
      "Recall tensor(0.9308)\n",
      "Precision tensor(0.9345)\n",
      "Accuracy tensor([0.9839, 0.9957, 0.8829, 0.9393, 0.9327, 0.8887, 0.9632, 0.8977, 0.8918,\n",
      "        0.9327])\n",
      "Accuracy tensor(0.9308)\n",
      "Number of shots: 6000\n",
      "Accuracy of the network on the 10000 test images: 98.74285714285715 %\n",
      "F1 tensor(0.9874)\n",
      "Recall tensor(0.9872)\n",
      "Precision tensor(0.9876)\n",
      "Accuracy tensor([0.9909, 0.9950, 0.9958, 0.9890, 0.9647, 0.9889, 0.9788, 0.9789, 0.9914,\n",
      "        0.9986])\n",
      "Accuracy tensor(0.9872)\n",
      "Number of shots: 7000\n",
      "F1 tensor(0.9274)\n",
      "Recall tensor(0.9267)\n",
      "Precision tensor(0.9306)\n",
      "Accuracy tensor([0.9848, 0.9950, 0.8943, 0.9227, 0.9088, 0.9002, 0.9561, 0.8859, 0.8721,\n",
      "        0.9469])\n",
      "Accuracy tensor(0.9267)\n",
      "Number of shots: 7000\n",
      "Accuracy of the network on the 10000 test images: 98.7875 %\n",
      "F1 tensor(0.9879)\n",
      "Recall tensor(0.9876)\n",
      "Precision tensor(0.9879)\n",
      "Accuracy tensor([0.9858, 0.9956, 0.9988, 0.9914, 0.9621, 0.9874, 0.9818, 0.9831, 0.9962,\n",
      "        0.9938])\n",
      "Accuracy tensor(0.9876)\n",
      "Number of shots: 8000\n",
      "F1 tensor(0.9250)\n",
      "Recall tensor(0.9240)\n",
      "Precision tensor(0.9285)\n",
      "Accuracy tensor([0.9819, 0.9946, 0.8905, 0.9272, 0.9125, 0.8908, 0.9492, 0.8853, 0.8782,\n",
      "        0.9297])\n",
      "Accuracy tensor(0.9240)\n",
      "Number of shots: 8000\n",
      "Accuracy of the network on the 10000 test images: 98.86666666666666 %\n",
      "F1 tensor(0.9887)\n",
      "Recall tensor(0.9886)\n",
      "Precision tensor(0.9887)\n",
      "Accuracy tensor([0.9875, 0.9913, 0.9968, 0.9901, 0.9709, 0.9925, 0.9840, 0.9846, 0.9919,\n",
      "        0.9967])\n",
      "Accuracy tensor(0.9886)\n",
      "Number of shots: 9000\n",
      "F1 tensor(0.9259)\n",
      "Recall tensor(0.9245)\n",
      "Precision tensor(0.9288)\n",
      "Accuracy tensor([0.9818, 0.9961, 0.8879, 0.9328, 0.9184, 0.8893, 0.9509, 0.8935, 0.8651,\n",
      "        0.9290])\n",
      "Accuracy tensor(0.9245)\n",
      "Number of shots: 9000\n",
      "Accuracy of the network on the 10000 test images: 98.79 %\n",
      "F1 tensor(0.9879)\n",
      "Recall tensor(0.9878)\n",
      "Precision tensor(0.9880)\n",
      "Accuracy tensor([0.9878, 0.9938, 0.9971, 0.9901, 0.9654, 0.9910, 0.9833, 0.9796, 0.9949,\n",
      "        0.9950])\n",
      "Accuracy tensor(0.9878)\n",
      "Number of shots: 10000\n",
      "F1 tensor(0.9272)\n",
      "Recall tensor(0.9262)\n",
      "Precision tensor(0.9302)\n",
      "Accuracy tensor([0.9786, 0.9956, 0.8857, 0.9327, 0.9165, 0.8935, 0.9562, 0.8959, 0.8809,\n",
      "        0.9267])\n",
      "Accuracy tensor(0.9262)\n",
      "Number of shots: 10000\n"
     ]
    }
   ],
   "source": [
    "import torch.utils.data as data_utils\n",
    "from torch.utils.data import DataLoader\n",
    "\n",
    "lengths = np.linspace(1000, 10000, 10, dtype=int)\n",
    "\n",
    "hdc_times = []\n",
    "lenet_times = []\n",
    "for number_of_images in lengths:\n",
    "    subset = torch.utils.data.random_split(test_dataset, [number_of_images, len(test_dataset)-number_of_images])[0]\n",
    "\n",
    "    sub_loader = torch.utils.data.DataLoader(dataset=subset,\n",
    "                                              batch_size=64,\n",
    "                                              shuffle=True)\n",
    "    lenet_execution_time = testFullLENET5(model, sub_loader)\n",
    "    hdc_execution_time = testHDC(model, sub_loader)\n",
    "    hdc_times.append(np.array(hdc_execution_time).sum())\n",
    "    lenet_times.append(np.array(lenet_execution_time).sum())"
   ]
  },
  {
   "cell_type": "code",
   "execution_count": 22,
   "metadata": {},
   "outputs": [
    {
     "data": {
      "image/png": "[encoded data removed]",
      "text/plain": [
       "<Figure size 640x480 with 1 Axes>"
      ]
     },
     "metadata": {},
     "output_type": "display_data"
    }
   ],
   "source": [
    "\n",
    "plt.plot(lengths, lenet_times, label=\"CNN-HDC\")\n",
    "plt.plot(lengths, hdc_times, label=\"Standalone CNN\")\n",
    "plt.legend()\n",
    "plt.xlabel(\"Number of Test Images\")\n",
    "plt.ylabel(\"Inference Time (s)\")\n",
    "plt.title(\"Inference Time v. Number of Images\")\n",
    "plt.savefig(\"inference-time.pdf\")\n",
    "plt.show()"
   ]
  },
  {
   "cell_type": "code",
   "execution_count": 21,
   "metadata": {},
   "outputs": [
    {
     "name": "stdout",
     "output_type": "stream",
     "text": [
      "Lenet5 Inference Times: [0.06052374839782715, 0.09384560585021973, 0.143632173538208, 0.18270492553710938, 0.22806000709533691, 0.27843546867370605, 0.32120394706726074, 0.365293025970459, 0.40984344482421875, 0.45295047760009766]\n",
      "HDC Inference Times: [0.08679008483886719, 0.18301820755004883, 0.2600288391113281, 0.3446006774902344, 0.44722986221313477, 0.519852876663208, 0.6016104221343994, 0.6858170032501221, 0.7726736068725586, 0.8657751083374023]\n",
      "Number of Images [ 1000  2000  3000  4000  5000  6000  7000  8000  9000 10000]\n"
     ]
    }
   ],
   "source": [
    "print(\"Lenet5 Inference Times:\", lenet_times)\n",
    "print(\"HDC Inference Times:\", hdc_times)\n",
    "print(\"Number of Images\", lengths)"
   ]
  },
  {
   "cell_type": "code",
   "execution_count": null,
   "metadata": {},
   "outputs": [],
   "source": []
  }
 ],
 "metadata": {
  "kernelspec": {
   "display_name": ".venv",
   "language": "python",
   "name": "python3"
  },
  "language_info": {
   "codemirror_mode": {
    "name": "ipython",
    "version": 3
   },
   "file_extension": ".py",
   "mimetype": "text/x-python",
   "name": "python",
   "nbconvert_exporter": "python",
   "pygments_lexer": "ipython3",
   "version": "3.11.2"
  },
  "orig_nbformat": 4
 },
 "nbformat": 4,
 "nbformat_minor": 2
}
