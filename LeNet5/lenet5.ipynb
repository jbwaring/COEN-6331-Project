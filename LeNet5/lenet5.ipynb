{
 "cells": [
  {
   "cell_type": "code",
   "execution_count": 33,
   "metadata": {},
   "outputs": [],
   "source": [
    "from dataset import getMNIST\n",
    "import numpy as np\n",
    "from matplotlib import pyplot as plt\n",
    "from mpl_toolkits.axes_grid1 import ImageGrid\n",
    "from lenet5.nn import ConvNeuralNet\n",
    "from utils import getTorchDevice\n",
    "import torch\n",
    "import random\n",
    "from rich.jupyter import print\n",
    "from rich.panel import Panel\n",
    "from rich.console import Console\n",
    "from rich.progress import (\n",
    "    SpinnerColumn,\n",
    "    BarColumn,\n",
    "    TimeElapsedColumn,\n",
    "    DownloadColumn,\n",
    "    Progress,\n",
    "    TaskID,\n",
    "    TextColumn,\n",
    "    TimeRemainingColumn,\n",
    "    TransferSpeedColumn,\n",
    ")\n",
    "console = Console()\n",
    "# Plot Font Config \n",
    "\n",
    "import matplotlib.font_manager\n",
    "\n",
    "font_dirs = ['./IBM_Plex_Sans/']\n",
    "font_files = matplotlib.font_manager.findSystemFonts(fontpaths=font_dirs)\n",
    "\n",
    "for font_file in font_files:\n",
    "    matplotlib.font_manager.fontManager.addfont(font_file)\n",
    "plt.rcParams['font.family'] = 'IBM Plex Sans'"
   ]
  },
  {
   "cell_type": "code",
   "execution_count": 34,
   "metadata": {},
   "outputs": [],
   "source": [
    "train_dataset, test_dataset, train_loader, test_loader = getMNIST(batch_size=64)"
   ]
  },
  {
   "cell_type": "code",
   "execution_count": 35,
   "metadata": {},
   "outputs": [],
   "source": [
    "images = []\n",
    "for i in range(64):\n",
    "    images.append(train_dataset[i][0].reshape(32, 32))"
   ]
  },
  {
   "cell_type": "code",
   "execution_count": 36,
   "metadata": {},
   "outputs": [],
   "source": [
    "SHOULD_SHOW_SAMPLE_IMAGES = False\n",
    "if (SHOULD_SHOW_SAMPLE_IMAGES):\n",
    "    fig = plt.figure(figsize=(8., 8.))\n",
    "    grid = ImageGrid(fig, 111, \n",
    "                    nrows_ncols=(8, 8), \n",
    "                    axes_pad=0.1, \n",
    "                    )\n",
    "\n",
    "    for ax, im in zip(grid, images):\n",
    "        ax.imshow(im)\n",
    "        ax.axis('off')\n",
    "    plt.show()\n"
   ]
  },
  {
   "cell_type": "code",
   "execution_count": 37,
   "metadata": {},
   "outputs": [
    {
     "data": {
      "text/plain": [
       "(device(type='mps'),\n",
       " ConvNeuralNet(\n",
       "   (layer1): Sequential(\n",
       "     (0): Conv2d(1, 6, kernel_size=(5, 5), stride=(1, 1))\n",
       "     (1): BatchNorm2d(6, eps=1e-05, momentum=0.1, affine=True, track_running_stats=True)\n",
       "     (2): ReLU()\n",
       "     (3): MaxPool2d(kernel_size=2, stride=2, padding=0, dilation=1, ceil_mode=False)\n",
       "   )\n",
       "   (layer2): Sequential(\n",
       "     (0): Conv2d(6, 16, kernel_size=(5, 5), stride=(1, 1))\n",
       "     (1): BatchNorm2d(16, eps=1e-05, momentum=0.1, affine=True, track_running_stats=True)\n",
       "     (2): ReLU()\n",
       "     (3): MaxPool2d(kernel_size=2, stride=2, padding=0, dilation=1, ceil_mode=False)\n",
       "   )\n",
       "   (fc): Linear(in_features=400, out_features=120, bias=True)\n",
       "   (relu): ReLU()\n",
       "   (fc1): Linear(in_features=120, out_features=84, bias=True)\n",
       "   (relu1): ReLU()\n",
       "   (fc2): Linear(in_features=84, out_features=10, bias=True)\n",
       " ))"
      ]
     },
     "execution_count": 37,
     "metadata": {},
     "output_type": "execute_result"
    }
   ],
   "source": [
    "device = getTorchDevice()\n",
    "model = ConvNeuralNet(num_classes=10).to(device)\n",
    "model.load(\"lenet5.pth\")\n",
    "device, model"
   ]
  },
  {
   "cell_type": "code",
   "execution_count": 38,
   "metadata": {},
   "outputs": [
    {
     "data": {
      "text/html": [
       "<pre style=\"white-space:pre;overflow-x:auto;line-height:normal;font-family:Menlo,'DejaVu Sans Mono',consolas,'Courier New',monospace\">Shape of output from NN: <span style=\"color: #800080; text-decoration-color: #800080; font-weight: bold\">torch.Size</span><span style=\"font-weight: bold\">([</span><span style=\"color: #008080; text-decoration-color: #008080; font-weight: bold\">1</span>, <span style=\"color: #008080; text-decoration-color: #008080; font-weight: bold\">400</span><span style=\"font-weight: bold\">])</span>\n",
       "</pre>\n"
      ],
      "text/plain": [
       "Shape of output from NN: \u001b[1;35mtorch.Size\u001b[0m\u001b[1m(\u001b[0m\u001b[1m[\u001b[0m\u001b[1;36m1\u001b[0m, \u001b[1;36m400\u001b[0m\u001b[1m]\u001b[0m\u001b[1m)\u001b[0m\n"
      ]
     },
     "metadata": {},
     "output_type": "display_data"
    },
    {
     "data": {
      "image/png": "[encoded data removed]",
      "text/plain": [
       "<Figure size 640x480 with 1 Axes>"
      ]
     },
     "metadata": {},
     "output_type": "display_data"
    }
   ],
   "source": [
    "index = random.randint(0, len(images))\n",
    "sample_image = images[index].float().to(device)\n",
    "sample_image = sample_image.unsqueeze(0) \n",
    "sample_image = sample_image.unsqueeze(0) \n",
    "out = model.forwardWithoutLastLayer(x=sample_image)\n",
    "print(f\"Shape of output from NN: {out.shape}\")\n",
    "plt.imshow(out.detach().cpu().numpy().reshape(20, 20))\n",
    "\n",
    "def getMidOutputOfNN(model, image):\n",
    "    image = image.float().to(device)\n",
    "    image = image.unsqueeze(0) \n",
    "    image = image.unsqueeze(0) \n",
    "    return model.forwardWithoutLastLayer(x=image)"
   ]
  },
  {
   "cell_type": "code",
   "execution_count": 39,
   "metadata": {},
   "outputs": [],
   "source": [
    "def makeBinaryVector(floatVector):\n",
    "    output_vector = floatVector.detach().cpu()\n",
    "    num_intervals = 8\n",
    "    interval_size = 1.0 / num_intervals\n",
    "\n",
    "    # Create an array of boundaries\n",
    "    boundaries = np.arange(0, 1 + interval_size, interval_size)\n",
    "\n",
    "    # Quantize the output_vector\n",
    "    quantized_indices = np.digitize(output_vector.numpy(), boundaries) - 1\n",
    "\n",
    "    # Clip the indices to the valid range\n",
    "    quantized_indices = np.clip(quantized_indices, 0, num_intervals - 1)\n",
    "\n",
    "    # Generate unique binary patterns\n",
    "    unique_patterns = np.eye(num_intervals)\n",
    "    # Replace the quantized indices with their corresponding binary patterns\n",
    "    return torch.tensor(unique_patterns[quantized_indices], dtype=torch.float).reshape(1, output_vector.shape[1]*8)"
   ]
  },
  {
   "cell_type": "code",
   "execution_count": 40,
   "metadata": {},
   "outputs": [],
   "source": [
    "input_vectors_test = []\n",
    "for i in range(64):\n",
    "    input_vectors_test.append(makeBinaryVector(getMidOutputOfNN(model, images[i])).squeeze(0))"
   ]
  },
  {
   "cell_type": "code",
   "execution_count": 41,
   "metadata": {},
   "outputs": [
    {
     "data": {
      "text/plain": [
       "<matplotlib.colorbar.Colorbar at 0x2b48eb4d0>"
      ]
     },
     "execution_count": 41,
     "metadata": {},
     "output_type": "execute_result"
    },
    {
     "data": {
      "image/png": "[encoded data removed]",
      "text/plain": [
       "<Figure size 700x700 with 2 Axes>"
      ]
     },
     "metadata": {},
     "output_type": "display_data"
    }
   ],
   "source": [
    "from scipy import spatial\n",
    "\n",
    "similarities = np.zeros((64, 64))\n",
    "\n",
    "def getSimilarities(input_vectors, index):\n",
    "    _similarities = []\n",
    "    for i in range(len(input_vectors)):\n",
    "        _similarities.append(1 - spatial.distance.cosine(input_vectors[index], input_vectors[i]))\n",
    "    return _similarities\n",
    "for i in range(64):\n",
    "    similarities[i] = getSimilarities(input_vectors_test, i)\n",
    "\n",
    "plt.figure(figsize=(7, 7))\n",
    "plt.title(\"Cosine Similarity Matrix\")\n",
    "plt.imshow(similarities, interpolation='nearest')\n",
    "plt.colorbar()\n",
    "  "
   ]
  },
  {
   "cell_type": "code",
   "execution_count": 42,
   "metadata": {},
   "outputs": [],
   "source": [
    "import numpy as np\n",
    "import torch\n",
    "from sklearn.metrics.pairwise import cosine_similarity\n",
    "from torchvision.datasets import MNIST\n",
    "from torchvision.transforms import ToTensor\n",
    "from torch.utils.data import DataLoader\n",
    "\n",
    "\n",
    "class HDCImageClassifier:\n",
    "    def __init__(self, num_classes, vec_dim):\n",
    "        self.num_classes = num_classes\n",
    "        self.vec_dim = vec_dim\n",
    "        self.item_memory = self.generate_item_memory_vectors()\n",
    "        self.bundled_vectors = np.zeros((num_classes, vec_dim))\n",
    "\n",
    "    def generate_item_memory_vectors(self):\n",
    "        im_vectors = np.random.choice([1, -1], size=(self.num_classes, self.vec_dim))\n",
    "        return im_vectors\n",
    "\n",
    "    def encode(self, input_vector, label):\n",
    "        return input_vector * self.item_memory[label]\n",
    "\n",
    "    def train(self, input_vectors, labels):\n",
    "        for input_vector, label in zip(input_vectors, labels):\n",
    "            encoded_vector = self.encode(input_vector, label)\n",
    "            self.bundled_vectors[label] = encoded_vector\n",
    "\n",
    "    def decode(self, input_vector):\n",
    "        similarities = cosine_similarity(input_vector.reshape(1, -1), self.bundled_vectors)\n",
    "        return np.argmax(similarities)\n",
    "\n",
    "    def predict(self, input_vectors):\n",
    "        return np.array([self.decode(input_vector) for input_vector in input_vectors])\n"
   ]
  },
  {
   "cell_type": "code",
   "execution_count": 43,
   "metadata": {},
   "outputs": [
    {
     "data": {
      "application/vnd.jupyter.widget-view+json": {
       "model_id": "8e8a2d4c25714e00bd03118a57c75acb",
       "version_major": 2,
       "version_minor": 0
      },
      "text/plain": [
       "Output()"
      ]
     },
     "metadata": {},
     "output_type": "display_data"
    },
    {
     "data": {
      "text/html": [
       "<pre style=\"white-space:pre;overflow-x:auto;line-height:normal;font-family:Menlo,'DejaVu Sans Mono',consolas,'Courier New',monospace\"></pre>\n"
      ],
      "text/plain": []
     },
     "metadata": {},
     "output_type": "display_data"
    },
    {
     "data": {
      "text/html": [
       "<pre style=\"white-space:pre;overflow-x:auto;line-height:normal;font-family:Menlo,'DejaVu Sans Mono',consolas,'Courier New',monospace\">\n",
       "</pre>\n"
      ],
      "text/plain": [
       "\n"
      ]
     },
     "metadata": {},
     "output_type": "display_data"
    },
    {
     "data": {
      "application/vnd.jupyter.widget-view+json": {
       "model_id": "c13ef1e800c04c198844fe946351a6a4",
       "version_major": 2,
       "version_minor": 0
      },
      "text/plain": [
       "Output()"
      ]
     },
     "metadata": {},
     "output_type": "display_data"
    },
    {
     "data": {
      "text/html": [
       "<pre style=\"white-space:pre;overflow-x:auto;line-height:normal;font-family:Menlo,'DejaVu Sans Mono',consolas,'Courier New',monospace\"></pre>\n"
      ],
      "text/plain": []
     },
     "metadata": {},
     "output_type": "display_data"
    },
    {
     "data": {
      "text/html": [
       "<pre style=\"white-space:pre;overflow-x:auto;line-height:normal;font-family:Menlo,'DejaVu Sans Mono',consolas,'Courier New',monospace\">\n",
       "</pre>\n"
      ],
      "text/plain": [
       "\n"
      ]
     },
     "metadata": {},
     "output_type": "display_data"
    },
    {
     "data": {
      "application/vnd.jupyter.widget-view+json": {
       "model_id": "2eeaadc4e3a54371bd074a91b39d368d",
       "version_major": 2,
       "version_minor": 0
      },
      "text/plain": [
       "Output()"
      ]
     },
     "metadata": {},
     "output_type": "display_data"
    },
    {
     "data": {
      "text/html": [
       "<pre style=\"white-space:pre;overflow-x:auto;line-height:normal;font-family:Menlo,'DejaVu Sans Mono',consolas,'Courier New',monospace\"></pre>\n"
      ],
      "text/plain": []
     },
     "metadata": {},
     "output_type": "display_data"
    },
    {
     "data": {
      "text/html": [
       "<pre style=\"white-space:pre;overflow-x:auto;line-height:normal;font-family:Menlo,'DejaVu Sans Mono',consolas,'Courier New',monospace\">\n",
       "</pre>\n"
      ],
      "text/plain": [
       "\n"
      ]
     },
     "metadata": {},
     "output_type": "display_data"
    },
    {
     "data": {
      "application/vnd.jupyter.widget-view+json": {
       "model_id": "3318e1287ff146cbaae2fa57f7118488",
       "version_major": 2,
       "version_minor": 0
      },
      "text/plain": [
       "Output()"
      ]
     },
     "metadata": {},
     "output_type": "display_data"
    },
    {
     "data": {
      "text/html": [
       "<pre style=\"white-space:pre;overflow-x:auto;line-height:normal;font-family:Menlo,'DejaVu Sans Mono',consolas,'Courier New',monospace\"></pre>\n"
      ],
      "text/plain": []
     },
     "metadata": {},
     "output_type": "display_data"
    },
    {
     "data": {
      "text/html": [
       "<pre style=\"white-space:pre;overflow-x:auto;line-height:normal;font-family:Menlo,'DejaVu Sans Mono',consolas,'Courier New',monospace\">\n",
       "</pre>\n"
      ],
      "text/plain": [
       "\n"
      ]
     },
     "metadata": {},
     "output_type": "display_data"
    }
   ],
   "source": [
    "NUMBER_OF_TRAINING_IMAGES = 1000 # max 60, 000\n",
    "NUMBER_OF_TEST_IMAGES = 64 # max 10, 000\n",
    "\n",
    "train_images = []\n",
    "train_labels = []\n",
    "\n",
    "with Progress() as progress:\n",
    "    load_train_task = progress.add_task(\"[cyan]Loading train images and labels...\", total=NUMBER_OF_TRAINING_IMAGES)\n",
    "    for i in range(NUMBER_OF_TRAINING_IMAGES):\n",
    "        train_images.append(train_dataset[i][0].reshape(32, 32))\n",
    "        train_labels.append(train_dataset[i][1])\n",
    "        progress.update(load_train_task, advance=1, refresh=True)\n",
    "\n",
    "test_images = []\n",
    "test_labels = []\n",
    "\n",
    "with Progress() as progress:\n",
    "    load_test_task = progress.add_task(\"[cyan]Loading test images and labels...\", total=NUMBER_OF_TEST_IMAGES)\n",
    "    for i in range(NUMBER_OF_TEST_IMAGES):\n",
    "        test_images.append(test_dataset[i][0].reshape(32, 32))\n",
    "        test_labels.append(test_dataset[i][1])\n",
    "        progress.update(load_test_task, advance=1, refresh=True)\n",
    "\n",
    "train_vectors = []\n",
    "with Progress() as progress:\n",
    "    train_task = progress.add_task(\"[cyan]Processing train images...\", total=len(train_images))\n",
    "    for i in range(len(train_images)):\n",
    "        train_vectors.append(makeBinaryVector(getMidOutputOfNN(model, train_images[i])).squeeze(0))\n",
    "        progress.update(train_task, advance=1, refresh=True)\n",
    "\n",
    "test_vectors = []\n",
    "with Progress() as progress:\n",
    "    test_task = progress.add_task(\"[cyan]Processing test images...\", total=len(test_images))\n",
    "    for i in range(len(test_images)):\n",
    "        test_vectors.append(makeBinaryVector(getMidOutputOfNN(model, test_images[i])).squeeze(0))\n",
    "        progress.update(test_task, advance=1, refresh=True)\n"
   ]
  },
  {
   "cell_type": "code",
   "execution_count": 45,
   "metadata": {},
   "outputs": [
    {
     "data": {
      "text/html": [
       "<pre style=\"white-space:pre;overflow-x:auto;line-height:normal;font-family:Menlo,'DejaVu Sans Mono',consolas,'Courier New',monospace\">HDC classifier accuracy: <span style=\"color: #008080; text-decoration-color: #008080; font-weight: bold\">14.06</span>%\n",
       "</pre>\n"
      ],
      "text/plain": [
       "HDC classifier accuracy: \u001b[1;36m14.06\u001b[0m%\n"
      ]
     },
     "metadata": {},
     "output_type": "display_data"
    }
   ],
   "source": [
    "# Train HDC classifier\n",
    "num_classes = 10\n",
    "vec_dim = 3200\n",
    "hdc_classifier = HDCImageClassifier(num_classes, vec_dim)\n",
    "hdc_classifier.train(train_vectors, np.array(train_labels))\n",
    "\n",
    "# # Test HDC classifier\n",
    "test_predictions = hdc_classifier.predict(test_vectors)\n",
    "accuracy = np.mean(test_predictions == np.array(test_labels))\n",
    "\n",
    "print(f'HDC classifier accuracy: {accuracy:.2%}')"
   ]
  }
 ],
 "metadata": {
  "kernelspec": {
   "display_name": "Python 3",
   "language": "python",
   "name": "python3"
  },
  "language_info": {
   "codemirror_mode": {
    "name": "ipython",
    "version": 3
   },
   "file_extension": ".py",
   "mimetype": "text/x-python",
   "name": "python",
   "nbconvert_exporter": "python",
   "pygments_lexer": "ipython3",
   "version": "3.11.2"
  },
  "orig_nbformat": 4
 },
 "nbformat": 4,
 "nbformat_minor": 2
}
